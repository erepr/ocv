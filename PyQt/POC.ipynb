{
 "cells": [
  {
   "cell_type": "markdown",
   "id": "60368bb6",
   "metadata": {},
   "source": [
    "#### PyQt RTSP Stream"
   ]
  },
  {
   "cell_type": "code",
   "execution_count": 1,
   "id": "af463841",
   "metadata": {},
   "outputs": [
    {
     "ename": "AttributeError",
     "evalue": "module 'vlc' has no attribute 'Instance'",
     "output_type": "error",
     "traceback": [
      "\u001b[1;31m---------------------------------------------------------------------------\u001b[0m",
      "\u001b[1;31mAttributeError\u001b[0m                            Traceback (most recent call last)",
      "\u001b[1;32m~\\AppData\\Local\\Temp/ipykernel_8692/1331099013.py\u001b[0m in \u001b[0;36m<module>\u001b[1;34m\u001b[0m\n\u001b[0;32m     77\u001b[0m \u001b[1;32mif\u001b[0m \u001b[0m__name__\u001b[0m \u001b[1;33m==\u001b[0m \u001b[1;34m\"__main__\"\u001b[0m\u001b[1;33m:\u001b[0m\u001b[1;33m\u001b[0m\u001b[1;33m\u001b[0m\u001b[0m\n\u001b[0;32m     78\u001b[0m     \u001b[0mapp\u001b[0m \u001b[1;33m=\u001b[0m \u001b[0mQApplication\u001b[0m\u001b[1;33m(\u001b[0m\u001b[0msys\u001b[0m\u001b[1;33m.\u001b[0m\u001b[0margv\u001b[0m\u001b[1;33m)\u001b[0m\u001b[1;33m\u001b[0m\u001b[1;33m\u001b[0m\u001b[0m\n\u001b[1;32m---> 79\u001b[1;33m     \u001b[0mplayer\u001b[0m \u001b[1;33m=\u001b[0m \u001b[0mPlayer\u001b[0m\u001b[1;33m(\u001b[0m\u001b[1;33m)\u001b[0m\u001b[1;33m\u001b[0m\u001b[1;33m\u001b[0m\u001b[0m\n\u001b[0m\u001b[0;32m     80\u001b[0m     \u001b[0mplayer\u001b[0m\u001b[1;33m.\u001b[0m\u001b[0mshow\u001b[0m\u001b[1;33m(\u001b[0m\u001b[1;33m)\u001b[0m\u001b[1;33m\u001b[0m\u001b[1;33m\u001b[0m\u001b[0m\n\u001b[0;32m     81\u001b[0m     \u001b[1;31m#player.resize(640, 480)\u001b[0m\u001b[1;33m\u001b[0m\u001b[1;33m\u001b[0m\u001b[0m\n",
      "\u001b[1;32m~\\AppData\\Local\\Temp/ipykernel_8692/1331099013.py\u001b[0m in \u001b[0;36m__init__\u001b[1;34m(self, master)\u001b[0m\n\u001b[0;32m     11\u001b[0m         \u001b[0mQMainWindow\u001b[0m\u001b[1;33m.\u001b[0m\u001b[0m__init__\u001b[0m\u001b[1;33m(\u001b[0m\u001b[0mself\u001b[0m\u001b[1;33m,\u001b[0m \u001b[0mmaster\u001b[0m\u001b[1;33m)\u001b[0m\u001b[1;33m\u001b[0m\u001b[1;33m\u001b[0m\u001b[0m\n\u001b[0;32m     12\u001b[0m         \u001b[0mself\u001b[0m\u001b[1;33m.\u001b[0m\u001b[0msetWindowTitle\u001b[0m\u001b[1;33m(\u001b[0m\u001b[1;34m\"Media Player\"\u001b[0m\u001b[1;33m)\u001b[0m\u001b[1;33m\u001b[0m\u001b[1;33m\u001b[0m\u001b[0m\n\u001b[1;32m---> 13\u001b[1;33m         \u001b[0mself\u001b[0m\u001b[1;33m.\u001b[0m\u001b[0minstance\u001b[0m \u001b[1;33m=\u001b[0m \u001b[0mvlc\u001b[0m\u001b[1;33m.\u001b[0m\u001b[0mInstance\u001b[0m\u001b[1;33m(\u001b[0m\u001b[1;33m)\u001b[0m\u001b[1;33m\u001b[0m\u001b[1;33m\u001b[0m\u001b[0m\n\u001b[0m\u001b[0;32m     14\u001b[0m         \u001b[0mself\u001b[0m\u001b[1;33m.\u001b[0m\u001b[0mmediaplayer\u001b[0m \u001b[1;33m=\u001b[0m \u001b[0mself\u001b[0m\u001b[1;33m.\u001b[0m\u001b[0minstance\u001b[0m\u001b[1;33m.\u001b[0m\u001b[0mmedia_player_new\u001b[0m\u001b[1;33m(\u001b[0m\u001b[1;33m)\u001b[0m\u001b[1;33m\u001b[0m\u001b[1;33m\u001b[0m\u001b[0m\n\u001b[0;32m     15\u001b[0m         \u001b[0mself\u001b[0m\u001b[1;33m.\u001b[0m\u001b[0mcreateUI\u001b[0m\u001b[1;33m(\u001b[0m\u001b[1;33m)\u001b[0m\u001b[1;33m\u001b[0m\u001b[1;33m\u001b[0m\u001b[0m\n",
      "\u001b[1;31mAttributeError\u001b[0m: module 'vlc' has no attribute 'Instance'"
     ]
    }
   ],
   "source": [
    "import sys\n",
    "import os.path\n",
    "from PyQt5.QtCore import Qt, QTimer\n",
    "from PyQt5.QtGui import QPalette, QColor\n",
    "from PyQt5.QtWidgets import QMainWindow, QWidget, QFrame, QSlider, QHBoxLayout, QPushButton, \\\n",
    "    QVBoxLayout, QAction, QFileDialog, QApplication\n",
    "import vlc\n",
    "\n",
    "class Player(QMainWindow):\n",
    "    def __init__(self, master=None):\n",
    "        QMainWindow.__init__(self, master)\n",
    "        self.setWindowTitle(\"Media Player\")\n",
    "        self.instance = vlc.Instance()\n",
    "        self.mediaplayer = self.instance.media_player_new()\n",
    "        self.createUI()\n",
    "        self.isPaused = False\n",
    "\n",
    "    def createUI(self):\n",
    "        self.widget = QWidget(self)\n",
    "        self.setCentralWidget(self.widget)\n",
    "        self.videoframe = QFrame()\n",
    "        \n",
    "        self.hbuttonbox = QHBoxLayout()\n",
    "        self.playbutton = QPushButton(\"Play\")\n",
    "        self.hbuttonbox.addWidget(self.playbutton)\n",
    "        self.playbutton.clicked.connect(self.PlayPause)\n",
    "    \n",
    "        self.volumeslider = QSlider(Qt.Horizontal, self)\n",
    "        self.volumeslider.setMaximum(100)\n",
    "        self.volumeslider.setValue(self.mediaplayer.audio_get_volume())\n",
    "        self.volumeslider.setToolTip(\"Volume\")\n",
    "        self.hbuttonbox.addWidget(self.volumeslider)\n",
    "        self.volumeslider.valueChanged.connect(self.setVolume)\n",
    "\n",
    "        self.vboxlayout = QVBoxLayout()\n",
    "        self.vboxlayout.addWidget(self.videoframe)\n",
    "        self.vboxlayout.addLayout(self.hbuttonbox)\n",
    "\n",
    "        self.widget.setLayout(self.vboxlayout)\n",
    "        \n",
    "        self.timer = QTimer(self)\n",
    "        self.timer.setInterval(500)\n",
    "        self.timer.timeout.connect(self.updateUI)\n",
    "\n",
    "    def PlayPause(self):\n",
    "        if self.mediaplayer.is_playing():\n",
    "            self.mediaplayer.pause()\n",
    "            self.playbutton.setText(\"Play\")\n",
    "            self.isPaused = True\n",
    "        else:\n",
    "            if self.mediaplayer.play() == -1:\n",
    "                self.OpenFile()\n",
    "                return\n",
    "            self.mediaplayer.play()\n",
    "            self.playbutton.setText(\"Pause\")\n",
    "            self.timer.start()\n",
    "            self.isPaused = False\n",
    "            \n",
    "    def OpenFile(self, filename=None):\n",
    "        self.media = self.instance.media_new('rtsp://192.168.1.106:554/user=admin&password=admin@1234&channel=4&stream=0.sdp')\n",
    "        self.mediaplayer.set_media(self.media)\n",
    "        self.media.parse()\n",
    "        self.setWindowTitle(self.media.get_meta(0))\n",
    "        if sys.platform == \"win32\": \n",
    "            self.mediaplayer.set_hwnd(self.videoframe.winId())\n",
    "        self.PlayPause()\n",
    "        \n",
    "    def setVolume(self, Volume):\n",
    "        self.mediaplayer.audio_set_volume(Volume)\n",
    "        \n",
    "    def updateUI(self):\n",
    "        if not self.mediaplayer.is_playing():\n",
    "            self.timer.stop()\n",
    "            if not self.isPaused:\n",
    "                self.Stop()\n",
    "                \n",
    "if __name__ == \"__main__\":\n",
    "    app = QApplication(sys.argv)\n",
    "    player = Player()\n",
    "    player.show()\n",
    "    player.resize(640, 480)\n",
    "    if sys.argv[1:]:\n",
    "        player.OpenFile()\n",
    "    sys.exit(app.exec_())"
   ]
  },
  {
   "cell_type": "code",
   "execution_count": null,
   "id": "0124113c",
   "metadata": {},
   "outputs": [],
   "source": []
  }
 ],
 "metadata": {
  "kernelspec": {
   "display_name": "Python 3 (ipykernel)",
   "language": "python",
   "name": "python3"
  },
  "language_info": {
   "codemirror_mode": {
    "name": "ipython",
    "version": 3
   },
   "file_extension": ".py",
   "mimetype": "text/x-python",
   "name": "python",
   "nbconvert_exporter": "python",
   "pygments_lexer": "ipython3",
   "version": "3.9.7"
  }
 },
 "nbformat": 4,
 "nbformat_minor": 5
}
