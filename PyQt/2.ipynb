{
 "cells": [
  {
   "cell_type": "code",
   "execution_count": null,
   "id": "146e8e04",
   "metadata": {},
   "outputs": [],
   "source": [
    "import sys\n",
    "from PyQt6.QtWidgets import QApplication, QWidget, QLabel\n",
    "from PyQt6.QtGui import QPixmap"
   ]
  },
  {
   "cell_type": "code",
   "execution_count": null,
   "id": "13ea1da6",
   "metadata": {},
   "outputs": [],
   "source": [
    "class EmptyWindow(QWidget):\n",
    "    def __init__(self):\n",
    "        \"\"\"Constructor for Empty Window Class\"\"\"\n",
    "        super().__init__()\n",
    "        self.initializeUI()\n",
    "        \n",
    "        def initializeUI(self):\n",
    "            \"\"\"Set up the application.\"\"\"\n",
    "            self.setGeometry(200, 100, 400, 300) # x=200, y=100 in the window and has width=400 and height=300\n",
    "            self.setWindowTitle(\"Empty Window in PyQt\")\n",
    "            self.show() # Display the window on the screen\n",
    "            \n",
    "    # Run the program\n",
    "    if __name__=='__main__':\n",
    "        app = QApplication(sys.argv)\n",
    "        window = EmptyWindow()\n",
    "        sys.exit(app.exec())"
   ]
  },
  {
   "cell_type": "code",
   "execution_count": null,
   "id": "a5f466ee",
   "metadata": {},
   "outputs": [],
   "source": [
    "import sys # use sys to accept command line arguments\n",
    "from PyQt6.QtWidgets import QApplication, QWidget\n",
    "app = QApplication(sys.argv) # Create QApplication object\n",
    "window = QWidget() # Create window from QWidget object\n",
    "window.show() # Call show to display GUI window\n",
    "# Start the event loop. Use sys.exit to close the program\n",
    "sys.exit(app.exec())"
   ]
  },
  {
   "cell_type": "markdown",
   "id": "d8b21bcd",
   "metadata": {},
   "source": [
    "A QLabel object acts as \n",
    "a non-editable placeholder to display plain or rich text, hyperlinks, images, or GIFs"
   ]
  },
  {
   "cell_type": "markdown",
   "id": "82b4185e",
   "metadata": {},
   "source": [
    "Example of using QLabel widgets to place images and text in \n",
    "a window"
   ]
  },
  {
   "cell_type": "code",
   "execution_count": null,
   "id": "848e1229",
   "metadata": {},
   "outputs": [],
   "source": [
    "class MainWindow(QWidget):\n",
    "    def __init__(self):\n",
    "        \"\"\"Constructor for Empty Window Class\"\"\"\n",
    "        super().__init__()\n",
    "        self.initializeUI()\n",
    "        \n",
    "        def initializeUI(self):\n",
    "            \"\"\"Set up the application.\"\"\"\n",
    "            self.setGeometry(200, 100, 250, 250) # x=200, y=100 in the window and has width=400 and height=300\n",
    "            self.setWindowTitle(\"QLabel Example\")\n",
    "            self.setUpMainWindow()\n",
    "            self.show() # Display the window on the screen\n",
    "            \n",
    "        def setUpMainWindow(self):\n",
    "            \"\"\"Create QLabel to be displayed in the main window.\"\"\"\n",
    "            hello_label = QLabel(self) # By passing self as a parameter to QLabel, you set the MainWindow class as the parent of the label\n",
    "            hello_label.setText(\"Hello\")\n",
    "            hello_label.move(105, 15) # absolute positioning only specify the x and y pixel values of where you want to place the widgets\n",
    "            \n",
    "            image = \"logo.png\"\n",
    "            \n",
    "            try:\n",
    "                with open(image):\n",
    "                    world_label = QLabel(self)\n",
    "                    pixmap = QPixmap(image)\n",
    "                    world_label.setPixmap(pixmap)\n",
    "                    world_label.move(25, 40)\n",
    "            except FileNotFoundError as error:\n",
    "                print(f\"Image not found.\\nError: {error}\")\n",
    "            \n",
    "    # Run the program\n",
    "if __name__=='__main__':\n",
    "    app = QApplication(sys.argv)\n",
    "    window = MainWindow()\n",
    "    sys.exit(app.exec())"
   ]
  },
  {
   "cell_type": "markdown",
   "id": "d3dfe084",
   "metadata": {},
   "source": [
    "QPixmap is a Qt class that is optimized for \n",
    "showing images on the screen and is useful for displaying an image on a QLabel object"
   ]
  },
  {
   "cell_type": "markdown",
   "id": "92b16f7b",
   "metadata": {},
   "source": [
    "Qt is filled with numerous class methods called accessors, also referred \n",
    "to as getters, for retrieving values and mutators, also called setters, for changing \n",
    "values. You have already seen two setter examples. To change the size of a widget \n",
    "or widget, you can use the setter setGeometry(). If you wanted to retrieve \n",
    "that value at any time, you could use the getter geometry(). Setter and getter \n",
    "methods follow that pattern in PyQt, where setters have the word set in the method \n",
    "name, and the getter removes the word set and replaces the first letter with a \n",
    "lowercase one"
   ]
  },
  {
   "cell_type": "markdown",
   "id": "9e2ebfed",
   "metadata": {},
   "source": [
    "Imagine the main window as a graph where its upper-left corner is point (0,0). The \n",
    "x and y values you choose in move() refer to the point where the widget's top-left corner \n",
    "is placed in the main window"
   ]
  },
  {
   "cell_type": "markdown",
   "id": "d0ecbabe",
   "metadata": {},
   "source": [
    "creating a hello_label & world_label object to be placed \n",
    "in the main window. Then we construct a QPixmap of the image and use setPixmap() to \n",
    "set the image displayed onto the world_label. The image’s absolute location is set using \n",
    "move(). An exception is thrown if the image cannot be found."
   ]
  },
  {
   "cell_type": "markdown",
   "id": "dfefeebc",
   "metadata": {},
   "source": [
    "#### User Profile GUI\n",
    "\n",
    "![](https://i.imgur.com/EPcaZRR.png)"
   ]
  },
  {
   "cell_type": "markdown",
   "id": "ffbabb31",
   "metadata": {},
   "source": [
    "The upper portion uses QLabel objects that display a profile image that lies on top of a background image. \n",
    "The bottom portion shows the user’s information with multiple QLabel widgets, \n",
    "with the textual information arranged vertically and broken down into smaller sections, \n",
    "delineated by the use of different font sizes"
   ]
  },
  {
   "cell_type": "code",
   "execution_count": null,
   "id": "5ca1685b",
   "metadata": {},
   "outputs": [],
   "source": [
    "import sys\n",
    "from PyQt6.QtWidgets import QApplication, QWidget, QLabel\n",
    "from PyQt6.QtGui import QFont, QPixmap\n",
    "import datetime\n",
    "import time\n",
    "\n",
    "class MainWindow(QWidget):\n",
    "\n",
    "    def __init__(self):\n",
    "        super().__init__()\n",
    "        self.initializeUI()\n",
    "\n",
    "    def initializeUI(self):\n",
    "        \"\"\"Set up the application's GUI.\"\"\"\n",
    "        self.setGeometry(50, 50, 250, 450)\n",
    "        self.setWindowTitle(\"2.1 - User Profile GUI\")\n",
    "\n",
    "        self.setUpMainWindow()\n",
    "        self.show()\n",
    "\n",
    "    def setUpMainWindow(self):\n",
    "        \"\"\"Create the labels to be displayed in the window.\"\"\"\n",
    "        self.createImageLabels()\n",
    "\n",
    "        user_label = QLabel(self)\n",
    "        user_label.setText(\"John Doe\")\n",
    "        user_label.setFont(QFont(\"Arial\", 20))\n",
    "        user_label.move(85, 140)\n",
    "\n",
    "        bio_label = QLabel(self)\n",
    "        bio_label.setText(\"Biography\")\n",
    "        bio_label.setFont(QFont(\"Arial\", 17))\n",
    "        bio_label.move(15, 170)\n",
    "\n",
    "        about_label = QLabel(self)\n",
    "        about_label.setText(\"I'm a Software Engineer with 10 years\\\n",
    "            experience creating awesome code.\")\n",
    "        about_label.setWordWrap(True)\n",
    "        about_label.move(15, 190)\n",
    "\n",
    "        skills_label = QLabel(self)\n",
    "        skills_label.setText(\"Skills\")\n",
    "        skills_label.setFont(QFont('Arial', 17))\n",
    "        skills_label.move(15, 240)\n",
    "\n",
    "        languages_label = QLabel(self)\n",
    "        languages_label.setText(\"Python  |  PHP  |  SQL  |  JavaScript\")\n",
    "        languages_label.move(15, 260)\n",
    "\n",
    "        experience_label = QLabel(self)\n",
    "        experience_label.setText(\"Experience\")\n",
    "        experience_label.setFont(QFont(\"Arial\", 17))\n",
    "        experience_label.move(15, 290)\n",
    "\n",
    "        developer_label = QLabel(self)\n",
    "        developer_label.setText(\"Python Developer\")\n",
    "        developer_label.move(15, 310)\n",
    "\n",
    "        dev_dates_label = QLabel(self)\n",
    "        dev_dates_label.setText(\"Mar 2011 - Present\")\n",
    "        dev_dates_label.setFont(QFont(\"Arial\", 10))\n",
    "        dev_dates_label.move(15, 330)\n",
    "\n",
    "        driver_label = QLabel(self)\n",
    "        driver_label.setText(\"Pizza Delivery Driver\")\n",
    "        driver_label.move(15, 350)\n",
    "\n",
    "        driver_dates_label = QLabel(self)\n",
    "        driver_dates_label.setText(\"Aug 2015 - Dec 2017\")\n",
    "        driver_dates_label.setFont(QFont(\"Arial\", 10))\n",
    "        driver_dates_label.move(15, 370)\n",
    "        \n",
    "        timestamp_label = QLabel(self)\n",
    "        timestamp_label.setText(datetime.datetime.now().strftime(\"%x\") + \" \" + datetime.datetime.now().strftime(\"%X\"))\n",
    "        timestamp_label.setFont(QFont(\"Arial\", 10))\n",
    "        timestamp_label.move(15, 390)\n",
    "\n",
    "    def createImageLabels(self):\n",
    "        \"\"\"Open image files and create image labels.\"\"\"\n",
    "        images = [\"images/skyblue.png\", \n",
    "                  \"images/profile_image.png\"]\n",
    "\n",
    "        # Using a for loop, iterate through the list’s items, create a QLabel object for each, \n",
    "        # instantiate a QPixmap object, set the pixmap for the label, and if the image is the \n",
    "        # profile image, center it in the window using move()\n",
    "        for image in images:\n",
    "            try:\n",
    "                with open(image):\n",
    "                    label = QLabel(self)\n",
    "                    pixmap = QPixmap(image)\n",
    "                    label.setPixmap(pixmap)\n",
    "                    if image == \"images/profile_image.png\":\n",
    "                        label.move(80, 20) \n",
    "            except FileNotFoundError as error:\n",
    "                print(f\"Image not found.\\nError: {error}\")            \n",
    "\n",
    "# Run program\n",
    "if __name__ == '__main__':\n",
    "    app = QApplication(sys.argv)\n",
    "    window = MainWindow()\n",
    "    sys.exit(app.exec())"
   ]
  },
  {
   "cell_type": "markdown",
   "id": "96596e74",
   "metadata": {},
   "source": [
    "##### Using move() and absolute positioning, you can easily overlap images, but you will need to load the images in order from the bottom-most image to the top-most"
   ]
  },
  {
   "cell_type": "markdown",
   "id": "f2559b63",
   "metadata": {},
   "source": [
    "Signals are generated whenever an event occurs, such as when a button is \n",
    "clicked or a checkbox is toggled on or off. Those signals then need to be handled in some \n",
    "way"
   ]
  },
  {
   "cell_type": "markdown",
   "id": "f7f1d652",
   "metadata": {},
   "source": [
    " Slots are the methods that are connected to an event and executed in response to \n",
    "the signal. Slots can either be built-in PyQt functions or Python functions that you create \n",
    "yourself."
   ]
  },
  {
   "cell_type": "code",
   "execution_count": null,
   "id": "da9e4ac5",
   "metadata": {},
   "outputs": [],
   "source": [
    "button.clicked.connect(self.buttonClicked)"
   ]
  },
  {
   "cell_type": "markdown",
   "id": "8ee94e18",
   "metadata": {},
   "source": [
    "button is a widget, and clicked is the signal. We must use connect() to call some function, which in this case is buttonClicked(), which is the slot. The buttonClicked() method could then perform some action, such as \n",
    "opening a new window. Many signals also pass along additional information to the slot, \n",
    "such as a Boolean value that tells whether or not the button was pressed."
   ]
  },
  {
   "cell_type": "code",
   "execution_count": null,
   "id": "988e35ad",
   "metadata": {},
   "outputs": [],
   "source": [
    "import sys\n",
    "from PyQt6.QtWidgets import (QApplication, QWidget, QLabel, QPushButton)\n",
    "from PyQt6.QtCore import Qt\n",
    "\n",
    "class MainWindow(QWidget):\n",
    "    def __init__(self):\n",
    "        super().__init__()\n",
    "        self.initializeUI()\n",
    "    \n",
    "    def initializeUI(self):\n",
    "        \"\"\"Set up the application's GUI.\"\"\"\n",
    "        self.setGeometry(100, 100, 250, 150)\n",
    "        self.setWindowTitle(\"QPushButton Example\")\n",
    "        self.setUpMainWindow()\n",
    "        self.show()\n",
    "        \n",
    "    def setUpMainWindow(self):\n",
    "        \"\"\"Create and arrange widgets in the main window.\"\"\"\n",
    "        self.times_pressed = 0 # used to keep track of how many times button is pressed\n",
    "        self.name_label = QLabel(\"Don't push the button.\", self)\n",
    "        self.name_label.setAlignment(Qt.AlignmentFlag.AlignCenter) # align the contents of widgets that display text\n",
    "        self.name_label.move(60, 30)\n",
    "        self.button = QPushButton(\"Push Me\", self)\n",
    "        self.button.move(80, 70)\n",
    "        self.button.clicked.connect(self.buttonClicked)\n",
    "        \n",
    "    def buttonClicked(self):\n",
    "        \"\"\"Handle when the button is clicked. Demonstrates how to change text for widgets, update their sizes and locations, and how to close the window due to events.\"\"\"\n",
    "        self.times_pressed += 1\n",
    "        if self.times_pressed == 1:\n",
    "            self.name_label.setText(\"Why'd you press me?\")\n",
    "        if self.times_pressed == 2:\n",
    "            self.name_label.setText(\"I'm warning you.\")\n",
    "            self.button.setText(\"Feelin' Lucky?\")\n",
    "            self.button.adjustSize()\n",
    "            self.button.move(70, 70)\n",
    "        if self.times_pressed == 3:\n",
    "            print(\"The window has been closed.\")\n",
    "            self.close() # main window and closes the application\n",
    "        \n",
    "if __name__ == '__main__':\n",
    "    app = QApplication(sys.argv)\n",
    "    window = MainWindow()\n",
    "    sys.exit(app.exec())"
   ]
  },
  {
   "cell_type": "markdown",
   "id": "c60365ac",
   "metadata": {},
   "source": [
    "Instead of using setters, many of the properties for widgets can be set \n",
    "by passing them as arguments to a widget instance. For example, rather than \n",
    "using setAlignment(), you could set the alignment for the label by passing the \n",
    "keyword argument alignment=Qt.AlignmentFlag.AlignCenter after self."
   ]
  },
  {
   "cell_type": "markdown",
   "id": "284f416f",
   "metadata": {},
   "source": [
    "#### QLineEdit\n",
    "input a single line of text. normal text editing functions such as cut, copy, and paste, and redo or \n",
    "undo. Hiding text when it is entered, using \n",
    "placeholder text, or even setting a limit on the length of the text"
   ]
  },
  {
   "cell_type": "code",
   "execution_count": null,
   "id": "5094b100",
   "metadata": {},
   "outputs": [],
   "source": [
    "import sys\n",
    "from PyQt6.QtWidgets import (QApplication, QWidget, QLabel, QLineEdit, QPushButton)\n",
    "from PyQt6.QtCore import Qt\n",
    "\n",
    "class MainWindow(QWidget):\n",
    "    def __init__(self):\n",
    "        super().__init__()\n",
    "        self.initializeUI()\n",
    "    \n",
    "    def initializeUI(self):\n",
    "        \"\"\"Set up the application's GUI.\"\"\"\n",
    "        self.setMaximumSize(310, 130) # restrict the size of the window\n",
    "        self.setWindowTitle(\"QLineEdit Example\")\n",
    "        self.setUpMainWindow()\n",
    "        self.show()\n",
    "        \n",
    "    def setUpMainWindow(self):\n",
    "        \"\"\"Create and arrange widgets in the main window.\"\"\"\n",
    "        QLabel(\"Please enter your name below.\", self).move(70, 10)\n",
    "        name_label = QLabel(\"Name:\", self)\n",
    "        name_label.move(20, 50)\n",
    "        self.name_edit = QLineEdit(self)\n",
    "        self.name_edit.resize(210, 20) # modify a widget’s size\n",
    "        self.name_edit.move(70, 50)\n",
    "        clear_button = QPushButton(\"Clear\", self)\n",
    "        clear_button.move(140, 90)\n",
    "        clear_button.clicked.connect(self.clearText)\n",
    "        accept_button = QPushButton(\"OK\", self)\n",
    "        accept_button.move(210, 90)\n",
    "        accept_button.clicked.connect(self.acceptText)\n",
    "        \n",
    "    def clearText(self):\n",
    "        \"\"\"Clear the QLineEdit input field.\"\"\"\n",
    "        self.name_edit.clear()\n",
    "    \n",
    "    def acceptText(self):\n",
    "        \"\"\"Accept the user's input in the QLineEdit widget and close the program.\"\"\"\n",
    "        print(self.name_edit.text())\n",
    "        self.close()\n",
    "        \n",
    "if __name__ == '__main__':\n",
    "    app = QApplication(sys.argv)\n",
    "    window = MainWindow()\n",
    "    sys.exit(app.exec())"
   ]
  },
  {
   "cell_type": "code",
   "execution_count": null,
   "id": "a3eb8b8f",
   "metadata": {},
   "outputs": [],
   "source": [
    "\"\"\"Listing 3-7 to Listing 3-9\n",
    "Written by Joshua Willman\n",
    "Featured in \"Beginning PyQt - A Hands-on Approach to GUI Programming, 2nd Ed.\"\n",
    "\"\"\"\n",
    "\n",
    "# Import necessary modules\n",
    "import sys\n",
    "from PyQt6.QtWidgets import (QApplication, QWidget, QCheckBox, \n",
    "    QLabel)\n",
    "from PyQt6.QtCore import Qt\n",
    "\n",
    "class MainWindow(QWidget):\n",
    "\n",
    "    def __init__(self):\n",
    "        super().__init__()\n",
    "        self.initializeUI()\n",
    "\n",
    "    def initializeUI(self):\n",
    "        \"\"\"Set up the application's GUI.\"\"\"\n",
    "        self.setGeometry(100, 100, 250, 150)\n",
    "        self.setWindowTitle(\"QCheckBox Example\")\n",
    "\n",
    "        self.setUpMainWindow()\n",
    "        self.show()\n",
    "\n",
    "    def setUpMainWindow(self):\n",
    "        \"\"\"Create and arrange widgets in the main window.\"\"\"\n",
    "        header_label = QLabel(\"Which shifts can you work? \\\n",
    "                              (Please check all that apply)\", self)\n",
    "        header_label.setWordWrap(True)\n",
    "        header_label.move(20, 10)\n",
    "        \n",
    "        # Set up the checkboxes\n",
    "        morning_cb = QCheckBox(\"Morning [8 AM-2 PM]\", self) \n",
    "        morning_cb.move(40, 60)\n",
    "        #morning_cb.toggle() # Uncomment to start checked\n",
    "        morning_cb.toggled.connect(self.printSelected)\n",
    "\n",
    "        after_cb = QCheckBox(\"Afternoon [1 PM-8 PM]\", self) \n",
    "        after_cb.move(40, 80)   \n",
    "        after_cb.toggled.connect(self.printSelected)\n",
    "\n",
    "        night_cb = QCheckBox(\"Night [7 PM-3 AM]\", self) \n",
    "        night_cb.move(40, 100)   \n",
    "        night_cb.toggled.connect(self.printSelected)\n",
    "\n",
    "    def printSelected(self, checked): \n",
    "        \"\"\"Print the text of a QCheckBox object when selected\n",
    "        or deselected. Use sender() to determine which widget \n",
    "        is sending the signal.\"\"\"\n",
    "        sender = self.sender() # returns which object (the widget) is sending the signal\n",
    "        if checked:\n",
    "            print(f\"{sender.text()} Selected.\")\n",
    "        else:\n",
    "            print(f\"{sender.text()} Deselected.\")\n",
    "\n",
    "if __name__ == '__main__':\n",
    "    app = QApplication(sys.argv)\n",
    "    window = MainWindow()\n",
    "    sys.exit(app.exec())"
   ]
  },
  {
   "cell_type": "markdown",
   "id": "ebc49ed9",
   "metadata": {},
   "source": [
    "#### QMessageBox dialog box"
   ]
  },
  {
   "cell_type": "code",
   "execution_count": null,
   "id": "75203105",
   "metadata": {},
   "outputs": [],
   "source": [
    "import sys\n",
    "from PyQt6.QtWidgets import (QApplication, QWidget, QLabel, \n",
    "    QMessageBox, QLineEdit, QPushButton)\n",
    "from PyQt6.QtGui import QFont\n",
    "\n",
    "class MainWindow(QWidget):\n",
    "\n",
    "    def __init__(self):\n",
    "        super().__init__()\n",
    "        self.initializeUI() \n",
    "\n",
    "    def initializeUI(self):\n",
    "        \"\"\"Set up the application's GUI.\"\"\"\n",
    "        self.setGeometry(100, 100, 340, 140)\n",
    "        self.setWindowTitle(\"QMessageBox Example\")\n",
    "        \n",
    "        self.setUpMainWindow()\n",
    "        self.show()\n",
    "\n",
    "    def setUpMainWindow(self):\n",
    "        \"\"\"Create and arrange widgets in the main window.\"\"\"\n",
    "        catalogue_label = QLabel(\"Author Catalogue\", self)\n",
    "        catalogue_label.move(100, 10)\n",
    "        catalogue_label.setFont(QFont(\"Arial\", 18))\n",
    "\n",
    "        search_label = QLabel(\"Search the index for an author:\", self)\n",
    "        search_label.move(20, 40)\n",
    "\n",
    "        # Create name QLabel and QLineEdit widgets\n",
    "        author_label = QLabel(\"Name:\", self)\n",
    "        author_label.move(20, 74)\n",
    "\n",
    "        self.author_edit = QLineEdit(self)\n",
    "        self.author_edit.move(70, 70)\n",
    "        self.author_edit.resize(240, 24)\n",
    "        self.author_edit.setPlaceholderText(\n",
    "            \"Enter names as: First Last\")\n",
    "\n",
    "        # Create search QPushButton\n",
    "        search_button = QPushButton(\"Search\", self)\n",
    "        search_button.move(140, 100)\n",
    "        search_button.clicked.connect(self.searchAuthors)\n",
    "\n",
    "    def searchAuthors(self):\n",
    "        \"\"\"Search through catalogue of names.\n",
    "        If name is found, display Author Found dialog.\n",
    "        Otherwise, display Author Not Found dialog.\"\"\"\n",
    "        file = \"files/authors.txt\"\n",
    "\n",
    "        try:\n",
    "            with open(file, \"r\") as f:    \n",
    "                authors = [line.rstrip(\"\\n\") for line in f]\n",
    "\n",
    "            # Check for name in authors list\n",
    "            if self.author_edit.text() in authors:\n",
    "                QMessageBox.information(self, \"Author Found\", \n",
    "                    \"Author found in catalogue!\", QMessageBox.StandardButton.Ok) \n",
    "            else:\n",
    "                answer = QMessageBox.question(self, \"Author Not Found\",\n",
    "                    \"\"\"<p>Author not found in catalogue.</p>\n",
    "                    <p>Do you wish to continue?</p>\"\"\",\n",
    "                    QMessageBox.StandardButton.Yes | \\\n",
    "                    QMessageBox.StandardButton.No, \n",
    "                    QMessageBox.StandardButton.Yes)\n",
    "                \n",
    "                if answer == QMessageBox.StandardButton.No:\n",
    "                    print(\"Closing application.\")\n",
    "                    self.close()\n",
    "        except FileNotFoundError as error:\n",
    "            QMessageBox.warning(self, \"Error\",\n",
    "                f\"\"\"<p>File not found.</p> \n",
    "                <p>Error: {error}</p>\n",
    "                Closing application.\"\"\", \n",
    "                QMessageBox.StandardButton.Ok)\n",
    "            self.close()\n",
    "\n",
    "if __name__ == '__main__':\n",
    "    app = QApplication(sys.argv)\n",
    "    window = MainWindow()\n",
    "    sys.exit(app.exec())"
   ]
  },
  {
   "cell_type": "markdown",
   "id": "5071b122",
   "metadata": {},
   "source": [
    "#### Login GUI and Registration Dialog"
   ]
  },
  {
   "cell_type": "markdown",
   "id": "ecca2999",
   "metadata": {},
   "source": [
    "For the Login window in Figure 3-8, two separate QLineEdit widgets are used for \n",
    "users to enter their username and password. Under the password QLineEdit widget, \n",
    "there is a checkbox to toggle if the password is hidden or not. There are also two \n",
    "QPushButton widgets: one that the user can click to log in and the other to register a new \n",
    "account"
   ]
  },
  {
   "cell_type": "markdown",
   "id": "5a18cd37",
   "metadata": {},
   "source": [
    "When the user clicks the Login button, a signal is emitted. The connected slot is used \n",
    "to check if input is correct. QMessageBox dialogs are used to provide feedback if the user \n",
    "exists or does not exist, or as an error message if the users.txt file does not exist. If a \n",
    "successful login does occur, then the main window in Figure 3-10 will appear."
   ]
  },
  {
   "cell_type": "markdown",
   "id": "4832e9a3",
   "metadata": {},
   "source": [
    "Finally, this example also demonstrates how to handle the event when the user \n",
    "closes the window. Rather than just closing the application with close(), you will see \n",
    "how to use the event handler closeEvent() to customize how your programs can close"
   ]
  },
  {
   "cell_type": "markdown",
   "id": "76a3cbf4",
   "metadata": {},
   "source": [
    "#### Layout Management\n",
    "\n",
    "A layout manager will automatically \n",
    "take care of reparenting widgets to be associated with the parent widget. The parent widget could be a widget, a window, or even a dialog. layout managers set the parents for the child widgets"
   ]
  },
  {
   "cell_type": "markdown",
   "id": "96035ae1",
   "metadata": {},
   "source": [
    "create an instance of the layout manager for arranging widgets vertically"
   ]
  },
  {
   "cell_type": "code",
   "execution_count": null,
   "id": "7ba23950",
   "metadata": {},
   "outputs": [],
   "source": [
    "v_box = QVBoxLayout() # Create layout manager instance\n",
    "v_box.addWidget(label) # Add widgets to the layout\n",
    "v_box.addWidget(line_edit)\n",
    "parent_widget.setLayout(v_box) # Set the layout for the parent\n",
    "\n",
    "add widget -> apply layout"
   ]
  },
  {
   "cell_type": "markdown",
   "id": "406bc05b",
   "metadata": {},
   "source": [
    "Instead of using setLayout(), you can also pass the parent widget to the layout \n",
    "manager"
   ]
  },
  {
   "cell_type": "code",
   "execution_count": null,
   "id": "bb78da11",
   "metadata": {},
   "outputs": [],
   "source": [
    "v_box = QVBoxLayout(parent_widget)"
   ]
  },
  {
   "cell_type": "markdown",
   "id": "1bb8f365",
   "metadata": {},
   "source": [
    "Add layouts to other layouts to create a nested layout. Create a new layout instance and use the method addLayout() to pass the layout \n",
    "to the parent layout"
   ]
  },
  {
   "cell_type": "code",
   "execution_count": null,
   "id": "453b1bdb",
   "metadata": {},
   "outputs": [],
   "source": [
    "# h_box is the child layout and v_box is the parent, and h_box becomes an inner \n",
    "layout, or a child of a parent layout\n",
    "h_box = QHBoxLayout()\n",
    "v_box.addLayout(h_box)"
   ]
  },
  {
   "cell_type": "markdown",
   "id": "bf3ad3f7",
   "metadata": {},
   "source": [
    "Absolute positioning can be \n",
    "most useful for setting the position and size values of widgets that are contained within \n",
    "other widgets, or perhaps for repositioning a window’s location on the desktop"
   ]
  },
  {
   "cell_type": "code",
   "execution_count": null,
   "id": "a58f5b99",
   "metadata": {},
   "outputs": [],
   "source": []
  }
 ],
 "metadata": {
  "kernelspec": {
   "display_name": "Python 3 (ipykernel)",
   "language": "python",
   "name": "python3"
  },
  "language_info": {
   "codemirror_mode": {
    "name": "ipython",
    "version": 3
   },
   "file_extension": ".py",
   "mimetype": "text/x-python",
   "name": "python",
   "nbconvert_exporter": "python",
   "pygments_lexer": "ipython3",
   "version": "3.9.7"
  }
 },
 "nbformat": 4,
 "nbformat_minor": 5
}
