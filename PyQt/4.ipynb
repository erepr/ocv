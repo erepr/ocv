{
 "cells": [
  {
   "cell_type": "markdown",
   "id": "18ce1e22",
   "metadata": {},
   "source": [
    "#### The QFrame Class\n",
    "\n",
    "The QFrame class is used as a container to group and surround widgets, or to act as a \n",
    "placeholder in GUI applications"
   ]
  },
  {
   "cell_type": "markdown",
   "id": "01bb4792",
   "metadata": {},
   "source": [
    "The following bit of code shows an example of \n",
    "how to create a frame object in a main window, modify its properties, and add a widget"
   ]
  },
  {
   "cell_type": "markdown",
   "id": "4eecb62d",
   "metadata": {},
   "source": [
    "Right-click on the top-most frame to open a context menu. Scroll down to the last option, Lay out, and select Lay Out Horizontally. You can also open the context menu, select Break Layout, and \n",
    "rearrange the widgets. The option Simplify Grid Layout may also help you arrange items \n",
    "in the grid layout."
   ]
  },
  {
   "cell_type": "markdown",
   "id": "8277a58f",
   "metadata": {},
   "source": [
    "In Property and Value. The properties are organized by Qt Classes."
   ]
  },
  {
   "cell_type": "markdown",
   "id": "3fe2ec9c",
   "metadata": {},
   "source": [
    "C:\\Users\\Akshay\\anaconda3\\Library\\bin"
   ]
  },
  {
   "cell_type": "markdown",
   "id": "95d1a2b5",
   "metadata": {},
   "source": [
    "pyuic6 filename.ui -o filename.py"
   ]
  },
  {
   "cell_type": "markdown",
   "id": "f5503000",
   "metadata": {},
   "source": [
    "create an executable file that can display the GUI\n",
    "\n",
    "pyuic6 -x filename.ui -o filename.py"
   ]
  },
  {
   "cell_type": "code",
   "execution_count": null,
   "id": "62ce724a",
   "metadata": {},
   "outputs": [],
   "source": [
    "import sys\n",
    "from PyQt6.QtWidgets import (QApplication, QWidget,\n",
    " QMessageBox)\n",
    "from PyQt6.QtCore import Qt\n",
    "from PyQt6.QtGui import QIntValidator\n",
    "from keypad import Ui_Form\n",
    "\n",
    "class MainWindow(QWidget):\n",
    "    def __init__(self):\n",
    "        super().__init__()\n",
    "        self.ui = Ui_Form()\n",
    "        self.ui.setupUi(self)\n",
    "        self.initializeUI()\n",
    "        self.show()\n",
    "\n",
    "    def initializeUI(self):\n",
    "        \"\"\"Set up the application's GUI.\"\"\"\n",
    "        # Update other line_edit features\n",
    "        # Set the max number of characters allowed\n",
    "        self.ui.lineEdit_1.setMaxLength(1)\n",
    "        # User can only enter ints from 0-9\n",
    "        self.ui.lineEdit_1.setValidator(QIntValidator(0, 9))\n",
    "        # Widget does not accept focus\n",
    "        self.ui.lineEdit_1.setFocusPolicy(Qt.FocusPolicy.NoFocus)\n",
    "        \n",
    "        self.ui.lineEdit_2.setMaxLength(1)\n",
    "        self.ui.lineEdit_2.setValidator(QIntValidator(0, 9))\n",
    "        self.ui.lineEdit_2.setFocusPolicy(Qt.FocusPolicy.NoFocus)\n",
    "        \n",
    "        self.ui.lineEdit_3.setMaxLength(1)\n",
    "        self.ui.lineEdit_3.setValidator(QIntValidator(0, 9))\n",
    "        self.ui.lineEdit_3.setFocusPolicy(Qt.FocusPolicy.NoFocus)\n",
    "        \n",
    "        self.ui.lineEdit_4.setMaxLength(1)\n",
    "        self.ui.lineEdit_4.setValidator(QIntValidator(0, 9))\n",
    "        self.ui.lineEdit_4.setFocusPolicy(Qt.FocusPolicy.NoFocus)\n",
    "\n",
    "        self.passcode = 8618\n",
    "\n",
    "        # Add signal/slot connections for buttons\n",
    "        self.ui.pushButton_0.clicked.connect(lambda: self.numberClicked(self.ui.pushButton_0.text()))\n",
    "        self.ui.pushButton_1.clicked.connect(lambda: self.numberClicked(self.ui.pushButton_1.text()))\n",
    "        self.ui.pushButton_2.clicked.connect(lambda: self.numberClicked(self.ui.pushButton_2.text()))\n",
    "        self.ui.pushButton_3.clicked.connect(lambda: self.numberClicked(self.ui.pushButton_3.text()))\n",
    "        self.ui.pushButton_4.clicked.connect(lambda: self.numberClicked(self.ui.pushButton_4.text()))\n",
    "        self.ui.pushButton_5.clicked.connect(lambda: self.numberClicked(self.ui.pushButton_5.text()))\n",
    "        self.ui.pushButton_6.clicked.connect(lambda: self.numberClicked(self.ui.pushButton_6.text()))\n",
    "        self.ui.pushButton_7.clicked.connect(lambda: self.numberClicked(self.ui.pushButton_7.text()))\n",
    "        self.ui.pushButton_8.clicked.connect(lambda: self.numberClicked(self.ui.pushButton_8.text()))\n",
    "        self.ui.pushButton_9.clicked.connect(lambda: self.numberClicked(self.ui.pushButton_9.text()))\n",
    "        self.ui.pushButton_hash.clicked.connect(self.checkPasscode)\n",
    "\n",
    "    def numberClicked(self, text_value):\n",
    "        \"\"\"When a button with a digit is pressed, check if the text for QLineEdit widgets are empty. If empty,\n",
    "        set the focus to the correct widget and enter text value.\"\"\"\n",
    "        if self.ui.lineEdit_1.text() == \"\":\n",
    "            self.ui.lineEdit_1.setFocus()\n",
    "            self.ui.lineEdit_1.setText(text_value)\n",
    "            self.ui.lineEdit_1.repaint() # ensure that text is updated in the QLineEdit widgets\n",
    "        elif (self.ui.lineEdit_1.text() != \"\") and (self.ui.lineEdit_2.text() == \"\"):\n",
    "            self.ui.lineEdit_2.setFocus()\n",
    "            self.ui.lineEdit_2.setText(text_value)\n",
    "            self.ui.lineEdit_2.repaint()\n",
    "        elif (self.ui.lineEdit_1.text() != \"\") and (self.ui.lineEdit_2.text() != \"\") and (self.ui.lineEdit_3.text() == \"\"):\n",
    "            self.ui.lineEdit_3.setFocus()\n",
    "            self.ui.lineEdit_3.setText(text_value)\n",
    "            self.ui.lineEdit_3.repaint()\n",
    "        elif (self.ui.lineEdit_1.text() != \"\") and (self.ui.lineEdit_2.text() != \"\") and (self.ui.lineEdit_3.text() != \"\") and (self.ui.lineEdit_4.text() == \"\"):\n",
    "            self.ui.lineEdit_4.setFocus()\n",
    "            self.ui.lineEdit_4.setText(text_value)\n",
    "            self.ui.lineEdit_4.repaint()\n",
    "\n",
    "    def checkPasscode(self):\n",
    "        \"\"\"Concatenate the text values from the 4 QLineEdit widgets, and check to see if the passcode entered by\n",
    "        user matches existing passcode.\"\"\"\n",
    "        entered_passcode = self.ui.lineEdit_1.text() + self.ui.lineEdit_2.text() + self.ui.lineEdit_3.text() + self.ui.lineEdit_4.text()\n",
    "        if len(entered_passcode) == 4 and int(entered_passcode) == self.passcode:\n",
    "            QMessageBox.information(self, \"Valid Passcode!\", \"Valid Passcode!\", QMessageBox.StandardButton.Ok)\n",
    "            self.close()\n",
    "        else:\n",
    "            QMessageBox.warning(self, \"Error Message\", \"Invalid Passcode.\", QMessageBox.StandardButton.Close)\n",
    "            self.ui.lineEdit_1.clear()\n",
    "            self.ui.lineEdit_2.clear()\n",
    "            self.ui.lineEdit_3.clear()\n",
    "            self.ui.lineEdit_4.clear()\n",
    "            self.ui.lineEdit_1.setFocus()\n",
    "\n",
    "if __name__ == \"__main__\":\n",
    "    app = QApplication(sys.argv)\n",
    "    Keypad = MainWindow()\n",
    "    sys.exit(app.exec())"
   ]
  },
  {
   "cell_type": "markdown",
   "id": "84e59f05",
   "metadata": {},
   "source": [
    "if you have a QLabel widget on your form, you can access its properties \n",
    "in the Property Editor. Scroll down until you find the pixmap property. Click on its Value, \n",
    "and from here, you will be able to search for an image file"
   ]
  },
  {
   "cell_type": "markdown",
   "id": "80702e20",
   "metadata": {},
   "source": [
    "Style sheets can also easily be added to each widget by right-clicking on a widget and \n",
    "selecting the Change styleSheet… option from the context menu"
   ]
  },
  {
   "cell_type": "markdown",
   "id": "973a1844",
   "metadata": {},
   "source": [
    "#### QListWidget"
   ]
  },
  {
   "cell_type": "code",
   "execution_count": 1,
   "id": "2ad4fe2b",
   "metadata": {},
   "outputs": [
    {
     "ename": "SystemExit",
     "evalue": "0",
     "output_type": "error",
     "traceback": [
      "An exception has occurred, use %tb to see the full traceback.\n",
      "\u001b[1;31mSystemExit\u001b[0m\u001b[1;31m:\u001b[0m 0\n"
     ]
    },
    {
     "name": "stderr",
     "output_type": "stream",
     "text": [
      "C:\\Users\\Akshay\\anaconda3\\lib\\site-packages\\IPython\\core\\interactiveshell.py:3452: UserWarning: To exit: use 'exit', 'quit', or Ctrl-D.\n",
      "  warn(\"To exit: use 'exit', 'quit', or Ctrl-D.\", stacklevel=1)\n"
     ]
    }
   ],
   "source": [
    "\"\"\"Listing 10-1 to Listing 10-4\n",
    "Written by Joshua Willman\n",
    "Featured in \"Beginning PyQt - A Hands-on Approach to GUI Programming, 2nd Ed.\"\n",
    "\"\"\"\n",
    "\n",
    "# Import necessary modules\n",
    "import sys\n",
    "from PyQt6.QtWidgets import (QApplication, QWidget, \n",
    "    QPushButton, QListWidget, QListWidgetItem, QInputDialog,\n",
    "    QHBoxLayout, QVBoxLayout)\n",
    "\n",
    "class MainWindow(QWidget):\n",
    "    def __init__(self):\n",
    "        super().__init__()\n",
    "        self.initializeUI()\n",
    "\n",
    "    def initializeUI(self):\n",
    "        \"\"\"Set up the application's GUI.\"\"\"\n",
    "        self.setMinimumSize(400, 200)\n",
    "        self.setWindowTitle(\"QListWidget Example\")\n",
    "\n",
    "        self.setUpMainWindow()\n",
    "        self.show()\n",
    "\n",
    "    def setUpMainWindow(self):\n",
    "        \"\"\"Create and arrange widgets in the main window.\"\"\"\n",
    "        self.list_widget = QListWidget()\n",
    "        self.list_widget.setAlternatingRowColors(True)\n",
    "\n",
    "        # Initialize the QListWidget with items \n",
    "        grocery_list = [\"grapes\", \"broccoli\", \"garlic\", \"cheese\",\n",
    "                         \"bacon\", \"eggs\", \"waffles\", \"rice\", \"soda\"]\n",
    "        for item in grocery_list:\n",
    "            list_item = QListWidgetItem()\n",
    "            list_item.setText(item)\n",
    "            self.list_widget.addItem(list_item)\n",
    "\n",
    "        # Create buttons for interacting with the items\n",
    "        add_button = QPushButton(\"Add\")\n",
    "        add_button.clicked.connect(self.addListItem)\n",
    "\n",
    "        insert_button = QPushButton(\"Insert\")\n",
    "        insert_button.clicked.connect(self.insertItemInList)\n",
    "\n",
    "        remove_button = QPushButton(\"Remove\")\n",
    "        remove_button.clicked.connect(self.removeOneItem)\n",
    "\n",
    "        clear_button = QPushButton(\"Clear\")\n",
    "        clear_button.clicked.connect(self.list_widget.clear)\n",
    "\n",
    "        # Create layouts\n",
    "        right_v_box = QVBoxLayout()\n",
    "        right_v_box.addWidget(add_button)\n",
    "        right_v_box.addWidget(insert_button)\n",
    "        right_v_box.addWidget(remove_button)\n",
    "        right_v_box.addWidget(clear_button)\n",
    "\n",
    "        main_h_box = QHBoxLayout()\n",
    "        main_h_box.addWidget(self.list_widget)\n",
    "        main_h_box.addLayout(right_v_box)\n",
    "        self.setLayout(main_h_box)\n",
    "\n",
    "    def addListItem(self):\n",
    "        \"\"\"Add a single item to the list widget.\"\"\"\n",
    "        text, ok = QInputDialog.getText(self, \"New Item\", \"Add item:\")\n",
    "        if ok and text != \"\":\n",
    "            list_item = QListWidgetItem()\n",
    "            list_item.setText(text)\n",
    "            self.list_widget.addItem(list_item)\n",
    "\n",
    "    def insertItemInList(self):\n",
    "        \"\"\"Insert a single item into the list widget under \n",
    "        the currently selected row. \"\"\"\n",
    "        text, ok = QInputDialog.getText(self, \"Insert Item\", \"Insert item:\")\n",
    "        if ok and text != \"\":\n",
    "            row = self.list_widget.currentRow()\n",
    "            row = row + 1 # Select row below current row\n",
    "            new_item = QListWidgetItem()\n",
    "            new_item.setText(text)\n",
    "            self.list_widget.insertItem(row, new_item)\n",
    "\n",
    "    def removeOneItem(self):\n",
    "        \"\"\"Remove a single item from the list widget.\"\"\"\n",
    "        row = self.list_widget.currentRow()\n",
    "        item = self.list_widget.takeItem(row)\n",
    "        del item\n",
    "\n",
    "if __name__ == \"__main__\":\n",
    "    app = QApplication(sys.argv)\n",
    "    window = MainWindow()\n",
    "    sys.exit(app.exec())"
   ]
  },
  {
   "cell_type": "code",
   "execution_count": null,
   "id": "da48a993",
   "metadata": {},
   "outputs": [],
   "source": []
  }
 ],
 "metadata": {
  "kernelspec": {
   "display_name": "Python 3 (ipykernel)",
   "language": "python",
   "name": "python3"
  },
  "language_info": {
   "codemirror_mode": {
    "name": "ipython",
    "version": 3
   },
   "file_extension": ".py",
   "mimetype": "text/x-python",
   "name": "python",
   "nbconvert_exporter": "python",
   "pygments_lexer": "ipython3",
   "version": "3.9.7"
  }
 },
 "nbformat": 4,
 "nbformat_minor": 5
}
