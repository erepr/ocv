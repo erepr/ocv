{
 "cells": [
  {
   "cell_type": "code",
   "execution_count": 33,
   "id": "6b7a618f",
   "metadata": {},
   "outputs": [],
   "source": [
    "ser.close()\n",
    "ser2.close()"
   ]
  },
  {
   "cell_type": "code",
   "execution_count": 26,
   "id": "f0d4b180",
   "metadata": {},
   "outputs": [
    {
     "name": "stdout",
     "output_type": "stream",
     "text": [
      "Done!\n",
      "COM10 : b'04/22/22 17:56:5704/22/22 17:56:5804/22/22 17:57:0004/22/22 17:57:0104/22/22 17:57:0204/22/22 17:57:03'\n",
      "COM10 : b'04/22/22 17:57:0404/22/22 17:57:0504/22/22 17:57:0604/22/22 17:57:0704/22/22 17:57:0804/22/22 17:57:09'\n",
      "COM10 : b'04/22/22 17:57:1004/22/22 17:57:1104/22/22 17:57:1204/22/22 17:57:1304/22/22 17:57:14'\n",
      "COM9 : b'04/22/22 17:56:5704/22/22 17:56:5904/22/22 17:57:0004/22/22 17:57:0104/22/22 17:57:0204/22/22 17:57:0304/22/22 17:57:0404/22/22 17:57:0504/22/22 17:57:0604/22/22 17:57:0704/22/22 17:57:0804/22/22 17:57:0904/22/22 17:57:1004/22/22 17:57:1104/22/22 17:57:1204/22/22 17:57:1304/22/22 17:57:1404/22/22 17:57:15'\n"
     ]
    }
   ],
   "source": [
    "import threading\n",
    "import datetime\n",
    "import time\n",
    "import serial\n",
    "\n",
    "ser = serial.Serial('COM10', 9600, timeout=1)  \n",
    "ser2 = serial.Serial('COM9', 9600, timeout=1)  \n",
    "\n",
    "def com9_write():\n",
    "    count = 0\n",
    "    while 1:\n",
    "        ser.write(bytes(\"COM9 Msg\",'UTF-8'))\n",
    "        time.sleep(1)\n",
    "        count += 1\n",
    "    #ser.close()    \n",
    "    \n",
    "def com10_read():\n",
    "    while 1:\n",
    "        while ser2.in_waiting:\n",
    "            data_in = ser2.readline()\n",
    "            print(\"COM10 : \" + str(data_in) + \"\\n\")\n",
    "        #ser.close() \n",
    "        \n",
    "def com10_write():\n",
    "    count = 0\n",
    "    while 1:\n",
    "        ser2.write(bytes(\"COM 10 msg\",'UTF-8'))\n",
    "        time.sleep(1)\n",
    "        count += 1\n",
    "    #ser.close() \n",
    "    \n",
    "def com9_read():\n",
    "    while 1:\n",
    "        while ser.in_waiting:\n",
    "            data_in = ser.readline()\n",
    "            print(\"COM9 : \" + str(data_in) + \"\\n\")\n",
    "        #ser.close() \n",
    "        \n",
    "   \n",
    "    \n",
    "\n",
    "\n",
    "if __name__ == \"__main__\":\n",
    "    t1 = threading.Thread(target=com9_write)\n",
    "    t3 = threading.Thread(target=com10_write)\n",
    "    t2 = threading.Thread(target=com9_read)\n",
    "    t4 = threading.Thread(target=com10_read)\n",
    "  \n",
    "    t1.start()\n",
    "    t2.start()\n",
    "    t3.start()\n",
    "    t4.start()\n",
    "  \n",
    "    #t1.join()\n",
    "    #t2.join()\n",
    "  \n",
    "    print(\"Done!\")"
   ]
  },
  {
   "cell_type": "code",
   "execution_count": null,
   "id": "d215c60c",
   "metadata": {},
   "outputs": [],
   "source": []
  }
 ],
 "metadata": {
  "kernelspec": {
   "display_name": "Python 3 (ipykernel)",
   "language": "python",
   "name": "python3"
  },
  "language_info": {
   "codemirror_mode": {
    "name": "ipython",
    "version": 3
   },
   "file_extension": ".py",
   "mimetype": "text/x-python",
   "name": "python",
   "nbconvert_exporter": "python",
   "pygments_lexer": "ipython3",
   "version": "3.9.7"
  }
 },
 "nbformat": 4,
 "nbformat_minor": 5
}
