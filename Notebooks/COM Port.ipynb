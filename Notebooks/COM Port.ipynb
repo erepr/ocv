{
 "cells": [
  {
   "cell_type": "code",
   "execution_count": 3,
   "id": "23a455e9",
   "metadata": {},
   "outputs": [
    {
     "name": "stdout",
     "output_type": "stream",
     "text": [
      "Python 3.9.7\n"
     ]
    }
   ],
   "source": [
    "!python -V"
   ]
  },
  {
   "cell_type": "code",
   "execution_count": 6,
   "id": "264b4e8f",
   "metadata": {},
   "outputs": [
    {
     "name": "stdout",
     "output_type": "stream",
     "text": [
      "COM1: Electronic Team Virtual Serial Port (COM1->COM2) [VSBC9\\DEVICES\\0000]\n",
      "COM2: Electronic Team Virtual Serial Port (COM2->COM1) [VSBC9\\DEVICES\\0001]\n"
     ]
    }
   ],
   "source": [
    "import serial.tools.list_ports\n",
    "ports = serial.tools.list_ports.comports()\n",
    "\n",
    "for port, desc, hwid in sorted(ports):\n",
    "    print(\"{}: {} [{}]\".format(port, desc, hwid))"
   ]
  },
  {
   "cell_type": "code",
   "execution_count": 7,
   "id": "53b52c43",
   "metadata": {},
   "outputs": [
    {
     "name": "stdout",
     "output_type": "stream",
     "text": [
      "Connected COM ports: ['COM2', 'COM1']\n"
     ]
    }
   ],
   "source": [
    "import serial.tools.list_ports\n",
    "comlist = serial.tools.list_ports.comports()\n",
    "connected = []\n",
    "for element in comlist:\n",
    "    connected.append(element.device)\n",
    "print(\"Connected COM ports: \" + str(connected))"
   ]
  },
  {
   "cell_type": "code",
   "execution_count": 7,
   "id": "b8c0b0d0",
   "metadata": {},
   "outputs": [],
   "source": [
    "ser.close()"
   ]
  },
  {
   "cell_type": "code",
   "execution_count": 12,
   "id": "86c9849b",
   "metadata": {},
   "outputs": [
    {
     "data": {
      "text/plain": [
       "['']"
      ]
     },
     "execution_count": 12,
     "metadata": {},
     "output_type": "execute_result"
    }
   ],
   "source": [
    "text = []\n",
    "\n",
    "ser = serial.Serial('COM1', 9600, timeout=0, bytesize=serial.EIGHTBITS, parity=serial.PARITY_NONE, \n",
    "                    stopbits=serial.STOPBITS_ONE)\n",
    "un = ser.readline()\n",
    "serialString = ser.readline()\n",
    "text.append(serialString.decode('utf-8'))\n",
    "ser.close()\n",
    "text"
   ]
  },
  {
   "cell_type": "code",
   "execution_count": null,
   "id": "0f901eb1",
   "metadata": {},
   "outputs": [],
   "source": [
    "while True:\n",
    "    try:\n",
    "        # serialPort.reset_input_buffer()\n",
    "        # serialPort.reset_output_buffer()\n",
    "        # serialString = serialPort.read(10).hex()\n",
    "        serialString = serialPort.read()\n",
    "        print(serialString)\n",
    "    except KeyboardInterrupt:\n",
    "        break\n",
    "\n",
    "serialPort.close()"
   ]
  },
  {
   "cell_type": "code",
   "execution_count": 44,
   "id": "f7a44bbc",
   "metadata": {},
   "outputs": [],
   "source": [
    "serialPort.close()"
   ]
  },
  {
   "cell_type": "code",
   "execution_count": 8,
   "id": "a5860959",
   "metadata": {
    "scrolled": false
   },
   "outputs": [
    {
     "name": "stdout",
     "output_type": "stream",
     "text": [
      "\n",
      "\n",
      "\n",
      "\n",
      "\n",
      "\n",
      "\n",
      "\n",
      "\n",
      "\n",
      "\n",
      "\n",
      "\n",
      "\n",
      "\n",
      "\n",
      "\n",
      "\n",
      "\n",
      "\n",
      "\n",
      "\n",
      "\n"
     ]
    }
   ],
   "source": [
    "import serial\n",
    "import codecs\n",
    "import serial.tools.list_ports as port_list\n",
    "\n",
    "baudrate = 9600\n",
    "serialPort = serial.Serial(port='COM1', baudrate=baudrate,\n",
    "                                bytesize=8, timeout=1, stopbits=serial.STOPBITS_ONE)\n",
    "serialPort.write(bytes('Test','UTF-8'))\n",
    "# bytes.fromhex(\"68656c6c6f\")\n",
    "\n",
    "while True:\n",
    "    try:\n",
    "        serialString = serialPort.read()\n",
    "        print(codecs.decode(serialString))\n",
    "        #print(serialString.decode('UTF-8'))  \n",
    "    except KeyboardInterrupt:\n",
    "        break\n",
    "\n",
    "serialPort.close()"
   ]
  },
  {
   "cell_type": "code",
   "execution_count": 58,
   "id": "932fe7ed",
   "metadata": {},
   "outputs": [],
   "source": [
    "ser.close()\n",
    "read_ser.close()"
   ]
  },
  {
   "cell_type": "code",
   "execution_count": 59,
   "id": "22b70500",
   "metadata": {},
   "outputs": [
    {
     "name": "stdout",
     "output_type": "stream",
     "text": [
      "\n"
     ]
    }
   ],
   "source": [
    "import serial\n",
    "\n",
    "with serial.Serial() as ser:\n",
    "    ser.baudrate = 9600\n",
    "    ser.port = 'COM1'\n",
    "    ser.timeout = 1\n",
    "    ser.open()\n",
    "    ser.write(b'Hello')\n",
    "    read_ser = serial.Serial('COM2', 9600, timeout=1)\n",
    "    print(read_ser.readline().decode('UTF-8'))\n",
    "    ser.close()\n",
    "    read_ser.close()"
   ]
  },
  {
   "cell_type": "code",
   "execution_count": null,
   "id": "1f43dddd",
   "metadata": {},
   "outputs": [],
   "source": [
    "with serial.Serial() as ser:\n",
    "    ser.baudrate = 9600\n",
    "    ser.port = 'COM1'\n",
    "    ser.open()\n",
    "    ser.write(bytes.fromhex(\"68656c6c6f\"))\n",
    "    ser.close()"
   ]
  },
  {
   "cell_type": "code",
   "execution_count": null,
   "id": "2433a200",
   "metadata": {},
   "outputs": [],
   "source": [
    "with serial.Serial() as ser:\n",
    "    ser.baudrate = 9600\n",
    "    ser.port = 'COM1'\n",
    "    ser.open()\n",
    "    print(ser.readline())\n",
    "    ser.close()"
   ]
  },
  {
   "cell_type": "code",
   "execution_count": 4,
   "id": "72aa6aa3",
   "metadata": {},
   "outputs": [
    {
     "name": "stdout",
     "output_type": "stream",
     "text": [
      "\n"
     ]
    }
   ],
   "source": [
    "import codecs\n",
    "\n",
    "with serial.Serial('COM1', 9600, timeout=0) as ser:\n",
    "    x = ser.read()\n",
    "    line = ser.readline()\n",
    "    print(str(codecs.decode(line, \"hex\"), 'utf-8'))"
   ]
  },
  {
   "cell_type": "code",
   "execution_count": 77,
   "id": "5cfb3844",
   "metadata": {},
   "outputs": [
    {
     "ename": "SerialException",
     "evalue": "could not open port 'COM2': PermissionError(13, 'Access is denied.', None, 5)",
     "output_type": "error",
     "traceback": [
      "\u001b[1;31m---------------------------------------------------------------------------\u001b[0m",
      "\u001b[1;31mSerialException\u001b[0m                           Traceback (most recent call last)",
      "\u001b[1;32m~\\AppData\\Local\\Temp/ipykernel_4672/871968855.py\u001b[0m in \u001b[0;36m<module>\u001b[1;34m\u001b[0m\n\u001b[1;32m----> 1\u001b[1;33m \u001b[0mser\u001b[0m \u001b[1;33m=\u001b[0m \u001b[0mserial\u001b[0m\u001b[1;33m.\u001b[0m\u001b[0mSerial\u001b[0m\u001b[1;33m(\u001b[0m\u001b[1;34m'COM2'\u001b[0m\u001b[1;33m,\u001b[0m \u001b[1;36m9600\u001b[0m\u001b[1;33m,\u001b[0m \u001b[0mtimeout\u001b[0m\u001b[1;33m=\u001b[0m\u001b[1;36m0\u001b[0m\u001b[1;33m,\u001b[0m \u001b[0mparity\u001b[0m\u001b[1;33m=\u001b[0m\u001b[0mserial\u001b[0m\u001b[1;33m.\u001b[0m\u001b[0mPARITY_EVEN\u001b[0m\u001b[1;33m,\u001b[0m \u001b[0mrtscts\u001b[0m\u001b[1;33m=\u001b[0m\u001b[1;36m1\u001b[0m\u001b[1;33m)\u001b[0m\u001b[1;33m\u001b[0m\u001b[1;33m\u001b[0m\u001b[0m\n\u001b[0m\u001b[0;32m      2\u001b[0m \u001b[1;31m#print(ser.read())\u001b[0m\u001b[1;33m\u001b[0m\u001b[1;33m\u001b[0m\u001b[0m\n\u001b[0;32m      3\u001b[0m \u001b[1;31m#ser.close()\u001b[0m\u001b[1;33m\u001b[0m\u001b[1;33m\u001b[0m\u001b[0m\n\u001b[0;32m      4\u001b[0m \u001b[0mstr\u001b[0m\u001b[1;33m(\u001b[0m\u001b[0mcodecs\u001b[0m\u001b[1;33m.\u001b[0m\u001b[0mdecode\u001b[0m\u001b[1;33m(\u001b[0m\u001b[0mser\u001b[0m\u001b[1;33m.\u001b[0m\u001b[0mread\u001b[0m\u001b[1;33m(\u001b[0m\u001b[1;33m)\u001b[0m\u001b[1;33m,\u001b[0m \u001b[1;34m\"hex\"\u001b[0m\u001b[1;33m)\u001b[0m\u001b[1;33m,\u001b[0m \u001b[1;34m'utf-8'\u001b[0m\u001b[1;33m)\u001b[0m\u001b[1;33m\u001b[0m\u001b[1;33m\u001b[0m\u001b[0m\n\u001b[0;32m      5\u001b[0m \u001b[0mser\u001b[0m\u001b[1;33m.\u001b[0m\u001b[0mclose\u001b[0m\u001b[1;33m(\u001b[0m\u001b[1;33m)\u001b[0m\u001b[1;33m\u001b[0m\u001b[1;33m\u001b[0m\u001b[0m\n",
      "\u001b[1;32m~\\anaconda3\\lib\\site-packages\\serial\\serialwin32.py\u001b[0m in \u001b[0;36m__init__\u001b[1;34m(self, *args, **kwargs)\u001b[0m\n\u001b[0;32m     31\u001b[0m         \u001b[0mself\u001b[0m\u001b[1;33m.\u001b[0m\u001b[0m_overlapped_read\u001b[0m \u001b[1;33m=\u001b[0m \u001b[1;32mNone\u001b[0m\u001b[1;33m\u001b[0m\u001b[1;33m\u001b[0m\u001b[0m\n\u001b[0;32m     32\u001b[0m         \u001b[0mself\u001b[0m\u001b[1;33m.\u001b[0m\u001b[0m_overlapped_write\u001b[0m \u001b[1;33m=\u001b[0m \u001b[1;32mNone\u001b[0m\u001b[1;33m\u001b[0m\u001b[1;33m\u001b[0m\u001b[0m\n\u001b[1;32m---> 33\u001b[1;33m         \u001b[0msuper\u001b[0m\u001b[1;33m(\u001b[0m\u001b[0mSerial\u001b[0m\u001b[1;33m,\u001b[0m \u001b[0mself\u001b[0m\u001b[1;33m)\u001b[0m\u001b[1;33m.\u001b[0m\u001b[0m__init__\u001b[0m\u001b[1;33m(\u001b[0m\u001b[1;33m*\u001b[0m\u001b[0margs\u001b[0m\u001b[1;33m,\u001b[0m \u001b[1;33m**\u001b[0m\u001b[0mkwargs\u001b[0m\u001b[1;33m)\u001b[0m\u001b[1;33m\u001b[0m\u001b[1;33m\u001b[0m\u001b[0m\n\u001b[0m\u001b[0;32m     34\u001b[0m \u001b[1;33m\u001b[0m\u001b[0m\n\u001b[0;32m     35\u001b[0m     \u001b[1;32mdef\u001b[0m \u001b[0mopen\u001b[0m\u001b[1;33m(\u001b[0m\u001b[0mself\u001b[0m\u001b[1;33m)\u001b[0m\u001b[1;33m:\u001b[0m\u001b[1;33m\u001b[0m\u001b[1;33m\u001b[0m\u001b[0m\n",
      "\u001b[1;32m~\\anaconda3\\lib\\site-packages\\serial\\serialutil.py\u001b[0m in \u001b[0;36m__init__\u001b[1;34m(self, port, baudrate, bytesize, parity, stopbits, timeout, xonxoff, rtscts, write_timeout, dsrdtr, inter_byte_timeout, exclusive, **kwargs)\u001b[0m\n\u001b[0;32m    242\u001b[0m \u001b[1;33m\u001b[0m\u001b[0m\n\u001b[0;32m    243\u001b[0m         \u001b[1;32mif\u001b[0m \u001b[0mport\u001b[0m \u001b[1;32mis\u001b[0m \u001b[1;32mnot\u001b[0m \u001b[1;32mNone\u001b[0m\u001b[1;33m:\u001b[0m\u001b[1;33m\u001b[0m\u001b[1;33m\u001b[0m\u001b[0m\n\u001b[1;32m--> 244\u001b[1;33m             \u001b[0mself\u001b[0m\u001b[1;33m.\u001b[0m\u001b[0mopen\u001b[0m\u001b[1;33m(\u001b[0m\u001b[1;33m)\u001b[0m\u001b[1;33m\u001b[0m\u001b[1;33m\u001b[0m\u001b[0m\n\u001b[0m\u001b[0;32m    245\u001b[0m \u001b[1;33m\u001b[0m\u001b[0m\n\u001b[0;32m    246\u001b[0m     \u001b[1;31m#  -  -  -  -  -  -  -  -  -  -  -  -  -  -  -  -  -  -  -  -  -  -  -  -\u001b[0m\u001b[1;33m\u001b[0m\u001b[1;33m\u001b[0m\u001b[0m\n",
      "\u001b[1;32m~\\anaconda3\\lib\\site-packages\\serial\\serialwin32.py\u001b[0m in \u001b[0;36mopen\u001b[1;34m(self)\u001b[0m\n\u001b[0;32m     62\u001b[0m         \u001b[1;32mif\u001b[0m \u001b[0mself\u001b[0m\u001b[1;33m.\u001b[0m\u001b[0m_port_handle\u001b[0m \u001b[1;33m==\u001b[0m \u001b[0mwin32\u001b[0m\u001b[1;33m.\u001b[0m\u001b[0mINVALID_HANDLE_VALUE\u001b[0m\u001b[1;33m:\u001b[0m\u001b[1;33m\u001b[0m\u001b[1;33m\u001b[0m\u001b[0m\n\u001b[0;32m     63\u001b[0m             \u001b[0mself\u001b[0m\u001b[1;33m.\u001b[0m\u001b[0m_port_handle\u001b[0m \u001b[1;33m=\u001b[0m \u001b[1;32mNone\u001b[0m    \u001b[1;31m# 'cause __del__ is called anyway\u001b[0m\u001b[1;33m\u001b[0m\u001b[1;33m\u001b[0m\u001b[0m\n\u001b[1;32m---> 64\u001b[1;33m             \u001b[1;32mraise\u001b[0m \u001b[0mSerialException\u001b[0m\u001b[1;33m(\u001b[0m\u001b[1;34m\"could not open port {!r}: {!r}\"\u001b[0m\u001b[1;33m.\u001b[0m\u001b[0mformat\u001b[0m\u001b[1;33m(\u001b[0m\u001b[0mself\u001b[0m\u001b[1;33m.\u001b[0m\u001b[0mportstr\u001b[0m\u001b[1;33m,\u001b[0m \u001b[0mctypes\u001b[0m\u001b[1;33m.\u001b[0m\u001b[0mWinError\u001b[0m\u001b[1;33m(\u001b[0m\u001b[1;33m)\u001b[0m\u001b[1;33m)\u001b[0m\u001b[1;33m)\u001b[0m\u001b[1;33m\u001b[0m\u001b[1;33m\u001b[0m\u001b[0m\n\u001b[0m\u001b[0;32m     65\u001b[0m \u001b[1;33m\u001b[0m\u001b[0m\n\u001b[0;32m     66\u001b[0m         \u001b[1;32mtry\u001b[0m\u001b[1;33m:\u001b[0m\u001b[1;33m\u001b[0m\u001b[1;33m\u001b[0m\u001b[0m\n",
      "\u001b[1;31mSerialException\u001b[0m: could not open port 'COM2': PermissionError(13, 'Access is denied.', None, 5)"
     ]
    }
   ],
   "source": [
    "ser = serial.Serial('COM2', 9600, timeout=0, parity=serial.PARITY_EVEN, rtscts=1)\n",
    "#print(ser.read())\n",
    "#ser.close()\n",
    "str(codecs.decode(ser.read(), \"hex\"), 'utf-8')\n",
    "ser.close()"
   ]
  },
  {
   "cell_type": "code",
   "execution_count": null,
   "id": "f369e387",
   "metadata": {},
   "outputs": [],
   "source": []
  },
  {
   "cell_type": "code",
   "execution_count": null,
   "id": "bc255d4a",
   "metadata": {},
   "outputs": [],
   "source": []
  },
  {
   "cell_type": "code",
   "execution_count": null,
   "id": "9b231c6c",
   "metadata": {},
   "outputs": [],
   "source": []
  },
  {
   "cell_type": "code",
   "execution_count": null,
   "id": "1190c15b",
   "metadata": {},
   "outputs": [],
   "source": []
  },
  {
   "cell_type": "markdown",
   "id": "dc72c694",
   "metadata": {},
   "source": [
    "##### Do Not Run"
   ]
  },
  {
   "cell_type": "code",
   "execution_count": null,
   "id": "159d7775",
   "metadata": {},
   "outputs": [],
   "source": [
    "SerialObj = serial.Serial('COM1') \n",
    "\n",
    "SerialObj.baudrate = 9600\n",
    "SerialObj.bytesize = 8\n",
    "SerialObj.parity   ='N'\n",
    "SerialObj.stopbits = 1\n",
    "\n",
    "time.sleep(1)\n",
    "ReceivedString = SerialObj.readline()\n",
    "print(ReceivedString)\n",
    "#SerialObj.close() "
   ]
  },
  {
   "cell_type": "code",
   "execution_count": 12,
   "id": "6faf907c",
   "metadata": {},
   "outputs": [],
   "source": [
    "SerialObj.close() "
   ]
  },
  {
   "cell_type": "code",
   "execution_count": 1,
   "id": "b2809342",
   "metadata": {},
   "outputs": [],
   "source": [
    "import serial\n",
    "\n",
    "import time\n",
    "\n",
    "SerialObj = serial.Serial('COM1') \n",
    "\n",
    "SerialObj.baudrate = 9600\n",
    "SerialObj.bytesize = 8\n",
    "SerialObj.parity   ='N'\n",
    "SerialObj.stopbits = 1\n",
    "\n",
    "time.sleep(1)\n",
    "\n",
    "SerialObj.write(b'Test')\n",
    "\n",
    "SerialObj.close()"
   ]
  },
  {
   "cell_type": "code",
   "execution_count": null,
   "id": "98696aff",
   "metadata": {},
   "outputs": [],
   "source": [
    "import codecs\n",
    "\n",
    "ser = serial.Serial()\n",
    "ser.baudrate = 9600\n",
    "ser.port = 'COM2'\n",
    "ser.open()\n",
    "\n",
    "#ser = serial.Serial('COM1', 9600, timeout=0, parity=serial.PARITY_EVEN, rtscts=1)\n",
    "#print(ser.read())\n",
    "#ser.close()\n",
    "# (codecs.decode(ser.read(10), \"hex\"), 'utf-8')\n",
    "print(str(ser.read(10)))\n",
    "ser.close()\n",
    "ser.is_open"
   ]
  }
 ],
 "metadata": {
  "kernelspec": {
   "display_name": "Python 3 (ipykernel)",
   "language": "python",
   "name": "python3"
  },
  "language_info": {
   "codemirror_mode": {
    "name": "ipython",
    "version": 3
   },
   "file_extension": ".py",
   "mimetype": "text/x-python",
   "name": "python",
   "nbconvert_exporter": "python",
   "pygments_lexer": "ipython3",
   "version": "3.9.7"
  }
 },
 "nbformat": 4,
 "nbformat_minor": 5
}
