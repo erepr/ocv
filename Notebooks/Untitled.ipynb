{
 "cells": [
  {
   "cell_type": "code",
   "execution_count": null,
   "id": "808b4ee1",
   "metadata": {},
   "outputs": [],
   "source": [
    "import vlc\n",
    " \n",
    "# creating vlc media player object\n",
    "media1 = vlc.MediaPlayer(\"rtsp://192.168.1.106:554/user=admin&password=admin@1234&channel=1&stream=0.sdp\")\n",
    "media2 = vlc.MediaPlayer(\"rtsp://192.168.1.106:554/user=admin&password=admin@1234&channel=1&stream=0.sdp\")\n",
    "media3 = vlc.MediaPlayer(\"rtsp://192.168.1.106:554/user=admin&password=admin@1234&channel=1&stream=0.sdp\")\n",
    "# start playing video\n",
    "media1.play()\n",
    "media2.play()\n",
    "media3.play()"
   ]
  },
  {
   "cell_type": "code",
   "execution_count": null,
   "id": "43089be8",
   "metadata": {},
   "outputs": [],
   "source": [
    "import time, vlc\n",
    " \n",
    "# method to play video\n",
    "def video(source):\n",
    "     \n",
    "    # creating a vlc instance\n",
    "    vlc_instance = vlc.Instance()\n",
    "     \n",
    "    # creating a media player\n",
    "    player = vlc_instance.media_player_new()\n",
    "     \n",
    "    # creating a media\n",
    "    media = vlc_instance.media_new(source)\n",
    "     \n",
    "    # setting media to the player\n",
    "    player.set_media(media)\n",
    "     \n",
    "    # play the video\n",
    "    player.play()\n",
    "     \n",
    "    # wait time\n",
    "    time.sleep(0.5)\n",
    "     \n",
    "    # getting the duration of the video\n",
    "    duration = player.get_length()\n",
    "     \n",
    "    # printing the duration of the video\n",
    "    print(\"Duration : \" + str(duration))\n",
    "    \n",
    "    print(\"Scale : \" + str(vlc.libvlc_video_set_scale(player, 1.5)))\n",
    "    #vlc.libvlc_set_fullscreen(player, True) \n",
    "# call the video method\n",
    "video(\"rtsp://192.168.1.106:554/user=admin&password=admin@1234&channel=4&stream=0.sdp\")"
   ]
  },
  {
   "cell_type": "code",
   "execution_count": null,
   "id": "a5a55122",
   "metadata": {},
   "outputs": [],
   "source": [
    "import vlc\n",
    "import tkinter\n",
    "from tkinter import *\n",
    "import os\n",
    "\n",
    "root = tkinter.Tk()\n",
    "for r in range(2):\n",
    "    for c in range(1):\n",
    "        termf = Frame(root, height=100, width=200)\n",
    "        termf.grid(fill=BOTH, expand=YES)\n",
    "        wid = termf.winfo_id()\n",
    "        termf.grid(row=r,column=c)\n",
    "\n",
    "p=vlc.MediaPlayer('rtsp://192.168.1.106:554/user=admin&password=admin@1234&channel=1&stream=0.sdp')\n",
    "p.get_tk_widget().grid(row=r,column=c)\n",
    "p.play()\n",
    "#os.system('xterm -into %d -geometry 40x20 -sb &' % wid)\n",
    "os.system('vlc --no-fullscreen \"rtsp://192.168.1.106:554/user=admin&password=admin@1234&channel=1&stream=0.sdp\" -into %d -geometry 100x200 -sb &' % wid)\n",
    "\n",
    "root.mainloop()"
   ]
  },
  {
   "cell_type": "code",
   "execution_count": null,
   "id": "517fd2e3",
   "metadata": {},
   "outputs": [],
   "source": []
  },
  {
   "cell_type": "code",
   "execution_count": null,
   "id": "5d0b5008",
   "metadata": {},
   "outputs": [],
   "source": [
    "import vlc\n",
    "from tkinter import *\n",
    "import os\n",
    "\n",
    "def play(player):\n",
    "    player.play()\n",
    "    \n",
    "music_path = \"\"\n",
    "player = vlc.MediaPlayer(music_path)\n",
    "\n",
    "root = Tk()\n",
    "root.geometry(\"500x250\")\n",
    "root.title(\"Music Player\")\n",
    "root.configuration(bg=\"powder blue\", padx=110, pady=30)\n",
    "\n",
    "txt_label = Label(root, text=\"Music Player\", bg=\"powder blue\", font(\"algerian\", 30), justify=\"center\", pady=30)\n",
    "txt_label.grid(columnspan=5)\n",
    "\n",
    "play_icon = PhotoImage(file = o0s.path.join(\"images\"), bg=\"powder blue\", command=lambda:play(player), font=('arial', 20, 'bold'), justify='center, padx=16, pady=16, bd=0)\n",
    "button.grid(row=1, column=1)\n",
    "\n",
    "pause_icon = PhotoImage(file = r\"images\\pause_button.png\")\n",
    "button = Button(root, image = pause_icon, fg=\"blqck\", bg=\"powder blue\", command=lambda:pause(player), font=('arial', 20, 'bold', justify='center', padx=16, padx=16, pady=16, bd=0))\n",
    "root.mainloop()"
   ]
  },
  {
   "cell_type": "code",
   "execution_count": null,
   "id": "3c955cee",
   "metadata": {},
   "outputs": [],
   "source": []
  }
 ],
 "metadata": {
  "kernelspec": {
   "display_name": "Python 3 (ipykernel)",
   "language": "python",
   "name": "python3"
  },
  "language_info": {
   "codemirror_mode": {
    "name": "ipython",
    "version": 3
   },
   "file_extension": ".py",
   "mimetype": "text/x-python",
   "name": "python",
   "nbconvert_exporter": "python",
   "pygments_lexer": "ipython3",
   "version": "3.9.7"
  }
 },
 "nbformat": 4,
 "nbformat_minor": 5
}
